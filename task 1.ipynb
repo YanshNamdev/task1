{
 "cells": [
  {
   "cell_type": "code",
   "execution_count": 21,
   "id": "f30d8d21-09eb-4848-b727-66e11eeea38d",
   "metadata": {},
   "outputs": [
    {
     "data": {
      "text/plain": [
       "[10, 20, 30, 40, 50, 60, 70, 80, 90, 100, 110]"
      ]
     },
     "execution_count": 21,
     "metadata": {},
     "output_type": "execute_result"
    }
   ],
   "source": [
    "#list:\n",
    "my_list = [10,20,30,40,50,60,70,80,90,100]\n",
    "\n",
    "#adding an element in the list:\n",
    "\n",
    "my_list.append(110)\n",
    "my_list"
   ]
  },
  {
   "cell_type": "code",
   "execution_count": 11,
   "id": "56cf79c6-edd1-46bc-b2ea-a570737fe52c",
   "metadata": {},
   "outputs": [
    {
     "data": {
      "text/plain": [
       "[10, 20, 30, 40, 60, 70, 80, 90, 100, 110]"
      ]
     },
     "execution_count": 11,
     "metadata": {},
     "output_type": "execute_result"
    }
   ],
   "source": [
    "#remove an element in the list:\n",
    "\n",
    "my_list.remove(50)\n",
    "my_list"
   ]
  },
  {
   "cell_type": "code",
   "execution_count": 13,
   "id": "22925b43-ac76-42f0-a19d-cadf2adfba93",
   "metadata": {},
   "outputs": [
    {
     "data": {
      "text/plain": [
       "[10, 20, 30, 40, 60, 130, 80, 90, 100, 110]"
      ]
     },
     "execution_count": 13,
     "metadata": {},
     "output_type": "execute_result"
    }
   ],
   "source": [
    "#modifying an element in the list:\n",
    "\n",
    "my_list[5] = 130\n",
    "my_list"
   ]
  },
  {
   "cell_type": "code",
   "execution_count": 15,
   "id": "604708d5-3ebe-44ab-9f6a-ced872d3491f",
   "metadata": {},
   "outputs": [
    {
     "data": {
      "text/plain": [
       "[110, 100, 90, 80, 130, 60, 40, 30, 20, 10]"
      ]
     },
     "execution_count": 15,
     "metadata": {},
     "output_type": "execute_result"
    }
   ],
   "source": [
    "#reverse the element in the list:\n",
    "\n",
    "my_list.reverse()\n",
    "my_list"
   ]
  },
  {
   "cell_type": "code",
   "execution_count": 27,
   "id": "22cb1f13-1aad-435f-ab36-4dc83d2d4e90",
   "metadata": {},
   "outputs": [
    {
     "data": {
      "text/plain": [
       "{'name': 'jigy',\n",
       " 'age': 20,\n",
       " 'city': 'uttar pradesh',\n",
       " 'gender': 'Male',\n",
       " 'hobby': 'guitar'}"
      ]
     },
     "execution_count": 27,
     "metadata": {},
     "output_type": "execute_result"
    }
   ],
   "source": [
    "#dictionary:\n",
    "my_dict = {'name':'jigy','age':20,'city':'uttar pradesh'}\n",
    "\n",
    "#adding an element in the dictionary:\n",
    "\n",
    "my_dict['gender']='Male'\n",
    "my_dict['hobby']='guitar'\n",
    "my_dict"
   ]
  },
  {
   "cell_type": "code",
   "execution_count": 29,
   "id": "2d9ccd55-d5df-433d-a9e8-61c9a504c44a",
   "metadata": {},
   "outputs": [
    {
     "data": {
      "text/plain": [
       "{'name': 'jigy', 'age': 20, 'city': 'uttar pradesh', 'hobby': 'guitar'}"
      ]
     },
     "execution_count": 29,
     "metadata": {},
     "output_type": "execute_result"
    }
   ],
   "source": [
    "#remove an element in the dictionary:\n",
    "\n",
    "del my_dict['gender']\n",
    "my_dict"
   ]
  },
  {
   "cell_type": "code",
   "execution_count": 31,
   "id": "73ca4990-b6a0-4438-a1ee-c1a2ab5263de",
   "metadata": {},
   "outputs": [
    {
     "data": {
      "text/plain": [
       "{'name': 'jigy', 'age': 20, 'city': 'goa', 'hobby': 'guitar'}"
      ]
     },
     "execution_count": 31,
     "metadata": {},
     "output_type": "execute_result"
    }
   ],
   "source": [
    "#modify an element in the dictionary:\n",
    "\n",
    "my_dict['city']='goa'\n",
    "my_dict"
   ]
  },
  {
   "cell_type": "code",
   "execution_count": 39,
   "id": "f98fef6c-36ed-4db7-a545-4cbdd2e0d777",
   "metadata": {},
   "outputs": [
    {
     "name": "stdout",
     "output_type": "stream",
     "text": [
      "{'jigy': 'name', 20: 'age', 'goa': 'city', 'guitar': 'hobby'}\n"
     ]
    }
   ],
   "source": [
    "#reverse the element in the dictionary:\n",
    "\n",
    "reversed_dict = {v: k for k, v in my_dict.items()}\n",
    "print(reversed_dict)\n"
   ]
  },
  {
   "cell_type": "code",
   "execution_count": 1,
   "id": "ba0b6c2c-ecbf-41d0-b260-81c527507518",
   "metadata": {},
   "outputs": [
    {
     "data": {
      "text/plain": [
       "{10, 20, 30, 40, 50, 60, 70, 80, 90, 100, 120}"
      ]
     },
     "execution_count": 1,
     "metadata": {},
     "output_type": "execute_result"
    }
   ],
   "source": [
    "#set:\n",
    "my_set = {10,20,30,40,50,50,60,60,70,80,90,100}\n",
    "\n",
    "#adding an element in the set:\n",
    "\n",
    "my_set.add(120)\n",
    "my_set"
   ]
  },
  {
   "cell_type": "code",
   "execution_count": 75,
   "id": "7635270a-7073-4004-be7f-d2bc800db3c7",
   "metadata": {},
   "outputs": [
    {
     "data": {
      "text/plain": [
       "{10, 20, 30, 50, 60, 70, 80, 90, 100, 120}"
      ]
     },
     "execution_count": 75,
     "metadata": {},
     "output_type": "execute_result"
    }
   ],
   "source": [
    "#remove an element in the set:\n",
    "\n",
    "my_set.remove(40)\n",
    "my_set"
   ]
  },
  {
   "cell_type": "code",
   "execution_count": 77,
   "id": "1a1f33d0-7463-4abd-aa26-b8f355be2a95",
   "metadata": {},
   "outputs": [
    {
     "data": {
      "text/plain": [
       "{10, 30, 50, 60, 70, 80, 90, 100, 120, 140}"
      ]
     },
     "execution_count": 77,
     "metadata": {},
     "output_type": "execute_result"
    }
   ],
   "source": [
    "#modify an element in the set:\n",
    "\n",
    "my_set.add(140)\n",
    "my_set.discard(20)\n",
    "my_set"
   ]
  },
  {
   "cell_type": "code",
   "execution_count": 85,
   "id": "91196ddf-e298-46ee-97c9-d2ce002f1225",
   "metadata": {},
   "outputs": [
    {
     "name": "stdout",
     "output_type": "stream",
     "text": [
      "[100, 90, 80, 70, 60, 50, 40, 30, 20, 10]\n"
     ]
    }
   ],
   "source": [
    "#reverse an element in the set:\n",
    "\n",
    "my_set = {10, 20, 30, 40, 50, 60, 70, 80, 90, 100}\n",
    "my_list = sorted(my_set)\n",
    "my_list.reverse()\n",
    "print(my_list)"
   ]
  },
  {
   "cell_type": "code",
   "execution_count": null,
   "id": "d5bc511d-1b49-44ee-934e-4e3f7b1a783b",
   "metadata": {},
   "outputs": [],
   "source": []
  }
 ],
 "metadata": {
  "kernelspec": {
   "display_name": "Python 3 (ipykernel)",
   "language": "python",
   "name": "python3"
  },
  "language_info": {
   "codemirror_mode": {
    "name": "ipython",
    "version": 3
   },
   "file_extension": ".py",
   "mimetype": "text/x-python",
   "name": "python",
   "nbconvert_exporter": "python",
   "pygments_lexer": "ipython3",
   "version": "3.11.5"
  }
 },
 "nbformat": 4,
 "nbformat_minor": 5
}
